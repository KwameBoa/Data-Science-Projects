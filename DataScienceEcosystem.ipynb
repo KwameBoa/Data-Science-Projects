{
 "cells": [
  {
   "cell_type": "markdown",
   "id": "6df0fca2-1c4e-4b08-ae4a-0c360ae6cf15",
   "metadata": {
    "tags": []
   },
   "source": [
    "# Data Science Tools and Ecosystem"
   ]
  },
  {
   "cell_type": "markdown",
   "id": "60f6a71d-f4e7-4a69-99d4-8bffb417153a",
   "metadata": {},
   "source": [
    "In this notebook, Data Science Tools and Ecosystem is summarized."
   ]
  },
  {
   "cell_type": "markdown",
   "id": "4f5e8259-2889-4024-9832-592aba5a302f",
   "metadata": {},
   "source": [
    "**Objectives:**\n",
    "* List popular languagues for Data Science\n",
    "* List commonly used libraries used for Data Science\n",
    "* List development environment open source data science tools"
   ]
  },
  {
   "cell_type": "markdown",
   "id": "2fea24dd-d021-4dea-b21f-5e06218f87cb",
   "metadata": {},
   "source": [
    "Some of the popular languages that Data Scientists use are:\n",
    "1. Python\n",
    "2. Julia\n",
    "3. R"
   ]
  },
  {
   "cell_type": "markdown",
   "id": "3ac13a0d-0075-41f2-ad19-6d3d7dc6e316",
   "metadata": {},
   "source": [
    "Some of the commonly used libraries used by Data Scientists include:\n",
    "1. Matplotlib\n",
    "2. NumPy\n",
    "3. SciPy"
   ]
  },
  {
   "cell_type": "markdown",
   "id": "3a6da222-8943-4a1d-a712-fc70f6b9ce33",
   "metadata": {},
   "source": [
    "|Data Science Tools|\n",
    "------------------\n",
    "|Jupyter Notebooks|\n",
    "|R Studio|\n",
    "|Jupyterlab|"
   ]
  },
  {
   "cell_type": "markdown",
   "id": "9b12a7ce-937c-46c6-84fc-7033142ab6fd",
   "metadata": {},
   "source": [
    "### Below are a few examples of evaluating arithmetic expressions in python"
   ]
  },
  {
   "cell_type": "code",
   "execution_count": 2,
   "id": "3765d196-fb35-41b0-90b1-391e904041f9",
   "metadata": {
    "tags": []
   },
   "outputs": [
    {
     "data": {
      "text/plain": [
       "17"
      ]
     },
     "execution_count": 2,
     "metadata": {},
     "output_type": "execute_result"
    }
   ],
   "source": [
    "# This a simple arithmetic expression to mutiply then add integers\n",
    "(3*4)+5"
   ]
  },
  {
   "cell_type": "code",
   "execution_count": 3,
   "id": "abcbf4bd-ad8b-41a0-8c29-561005dc0458",
   "metadata": {
    "tags": []
   },
   "outputs": [
    {
     "data": {
      "text/plain": [
       "3.3333333333333335"
      ]
     },
     "execution_count": 3,
     "metadata": {},
     "output_type": "execute_result"
    }
   ],
   "source": [
    "# This will convert 200 minutes to hours by diving by 60\n",
    "(200/60)"
   ]
  },
  {
   "cell_type": "markdown",
   "id": "120d2144-c804-4dae-b6d8-40fba0307f7c",
   "metadata": {},
   "source": [
    "## Author\n",
    "Kwame Boa-Amponsem"
   ]
  }
 ],
 "metadata": {
  "kernelspec": {
   "display_name": "Python",
   "language": "python",
   "name": "conda-env-python-py"
  },
  "language_info": {
   "codemirror_mode": {
    "name": "ipython",
    "version": 3
   },
   "file_extension": ".py",
   "mimetype": "text/x-python",
   "name": "python",
   "nbconvert_exporter": "python",
   "pygments_lexer": "ipython3",
   "version": "3.7.12"
  }
 },
 "nbformat": 4,
 "nbformat_minor": 5
}
